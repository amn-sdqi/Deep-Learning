{
  "nbformat": 4,
  "nbformat_minor": 0,
  "metadata": {
    "colab": {
      "provenance": [],
      "gpuType": "T4",
      "authorship_tag": "ABX9TyPd0PrHTC4zkINQbTRe4U51",
      "include_colab_link": true
    },
    "kernelspec": {
      "name": "python3",
      "display_name": "Python 3"
    },
    "language_info": {
      "name": "python"
    },
    "accelerator": "GPU"
  },
  "cells": [
    {
      "cell_type": "markdown",
      "metadata": {
        "id": "view-in-github",
        "colab_type": "text"
      },
      "source": [
        "<a href=\"https://colab.research.google.com/github/amn-sdqi/Deep-Learning/blob/main/CNN_assignment%20/Assignment.ipynb\" target=\"_parent\"><img src=\"https://colab.research.google.com/assets/colab-badge.svg\" alt=\"Open In Colab\"/></a>"
      ]
    },
    {
      "cell_type": "code",
      "execution_count": null,
      "metadata": {
        "id": "zvb0MWVbj1Te",
        "colab": {
          "base_uri": "https://localhost:8080/"
        },
        "outputId": "26ff386f-2350-489e-c111-1ee39be514cc"
      },
      "outputs": [
        {
          "output_type": "stream",
          "name": "stdout",
          "text": [
            "\u001b[2K   \u001b[90m━━━━━━━━━━━━━━━━━━━━━━━━━━━━━━━━━━━━━━━━\u001b[0m \u001b[32m363.4/363.4 MB\u001b[0m \u001b[31m4.1 MB/s\u001b[0m eta \u001b[36m0:00:00\u001b[0m\n",
            "\u001b[2K   \u001b[90m━━━━━━━━━━━━━━━━━━━━━━━━━━━━━━━━━━━━━━━━\u001b[0m \u001b[32m13.8/13.8 MB\u001b[0m \u001b[31m115.1 MB/s\u001b[0m eta \u001b[36m0:00:00\u001b[0m\n",
            "\u001b[2K   \u001b[90m━━━━━━━━━━━━━━━━━━━━━━━━━━━━━━━━━━━━━━━━\u001b[0m \u001b[32m24.6/24.6 MB\u001b[0m \u001b[31m80.2 MB/s\u001b[0m eta \u001b[36m0:00:00\u001b[0m\n",
            "\u001b[2K   \u001b[90m━━━━━━━━━━━━━━━━━━━━━━━━━━━━━━━━━━━━━━━━\u001b[0m \u001b[32m883.7/883.7 kB\u001b[0m \u001b[31m45.5 MB/s\u001b[0m eta \u001b[36m0:00:00\u001b[0m\n",
            "\u001b[2K   \u001b[90m━━━━━━━━━━━━━━━━━━━━━━━━━━━━━━━━━━━━━━━━\u001b[0m \u001b[32m664.8/664.8 MB\u001b[0m \u001b[31m2.0 MB/s\u001b[0m eta \u001b[36m0:00:00\u001b[0m\n",
            "\u001b[2K   \u001b[90m━━━━━━━━━━━━━━━━━━━━━━━━━━━━━━━━━━━━━━━━\u001b[0m \u001b[32m211.5/211.5 MB\u001b[0m \u001b[31m5.9 MB/s\u001b[0m eta \u001b[36m0:00:00\u001b[0m\n",
            "\u001b[2K   \u001b[90m━━━━━━━━━━━━━━━━━━━━━━━━━━━━━━━━━━━━━━━━\u001b[0m \u001b[32m56.3/56.3 MB\u001b[0m \u001b[31m13.0 MB/s\u001b[0m eta \u001b[36m0:00:00\u001b[0m\n",
            "\u001b[2K   \u001b[90m━━━━━━━━━━━━━━━━━━━━━━━━━━━━━━━━━━━━━━━━\u001b[0m \u001b[32m127.9/127.9 MB\u001b[0m \u001b[31m7.3 MB/s\u001b[0m eta \u001b[36m0:00:00\u001b[0m\n",
            "\u001b[2K   \u001b[90m━━━━━━━━━━━━━━━━━━━━━━━━━━━━━━━━━━━━━━━━\u001b[0m \u001b[32m207.5/207.5 MB\u001b[0m \u001b[31m5.8 MB/s\u001b[0m eta \u001b[36m0:00:00\u001b[0m\n",
            "\u001b[2K   \u001b[90m━━━━━━━━━━━━━━━━━━━━━━━━━━━━━━━━━━━━━━━━\u001b[0m \u001b[32m21.1/21.1 MB\u001b[0m \u001b[31m86.1 MB/s\u001b[0m eta \u001b[36m0:00:00\u001b[0m\n",
            "\u001b[2K   \u001b[90m━━━━━━━━━━━━━━━━━━━━━━━━━━━━━━━━━━━━━━━━\u001b[0m \u001b[32m94.8/94.8 kB\u001b[0m \u001b[31m8.5 MB/s\u001b[0m eta \u001b[36m0:00:00\u001b[0m\n",
            "\u001b[2K   \u001b[90m━━━━━━━━━━━━━━━━━━━━━━━━━━━━━━━━━━━━━━━━\u001b[0m \u001b[32m62.3/62.3 kB\u001b[0m \u001b[31m5.8 MB/s\u001b[0m eta \u001b[36m0:00:00\u001b[0m\n",
            "\u001b[2K   \u001b[90m━━━━━━━━━━━━━━━━━━━━━━━━━━━━━━━━━━━━━━━━\u001b[0m \u001b[32m71.5/71.5 kB\u001b[0m \u001b[31m7.1 MB/s\u001b[0m eta \u001b[36m0:00:00\u001b[0m\n",
            "\u001b[?25h"
          ]
        }
      ],
      "source": [
        "! pip install tensorflow torch torchvision torchaudio fastapi uvicorn opencv-python pytesseract numpy pandas pillow scikit-learn -q"
      ]
    },
    {
      "cell_type": "code",
      "source": [
        "! pip install paddleocr -q"
      ],
      "metadata": {
        "id": "DSBrh46DkF7L",
        "colab": {
          "base_uri": "https://localhost:8080/"
        },
        "outputId": "bcc67d64-b568-404b-f3c5-f888de45df00"
      },
      "execution_count": null,
      "outputs": [
        {
          "output_type": "stream",
          "name": "stdout",
          "text": [
            "\u001b[?25l     \u001b[90m━━━━━━━━━━━━━━━━━━━━━━━━━━━━━━━━━━━━━━━━\u001b[0m \u001b[32m0.0/87.2 kB\u001b[0m \u001b[31m?\u001b[0m eta \u001b[36m-:--:--\u001b[0m\r\u001b[2K     \u001b[90m━━━━━━━━━━━━━━━━━━━━━━━━━━━━━━━━━━━━━━━━\u001b[0m \u001b[32m87.2/87.2 kB\u001b[0m \u001b[31m4.7 MB/s\u001b[0m eta \u001b[36m0:00:00\u001b[0m\n",
            "\u001b[?25h  Preparing metadata (setup.py) ... \u001b[?25l\u001b[?25hdone\n",
            "\u001b[2K   \u001b[90m━━━━━━━━━━━━━━━━━━━━━━━━━━━━━━━━━━━━━━━━\u001b[0m \u001b[32m544.7/544.7 kB\u001b[0m \u001b[31m20.5 MB/s\u001b[0m eta \u001b[36m0:00:00\u001b[0m\n",
            "\u001b[2K   \u001b[90m━━━━━━━━━━━━━━━━━━━━━━━━━━━━━━━━━━━━━━━━\u001b[0m \u001b[32m161.9/161.9 kB\u001b[0m \u001b[31m14.1 MB/s\u001b[0m eta \u001b[36m0:00:00\u001b[0m\n",
            "\u001b[2K   \u001b[90m━━━━━━━━━━━━━━━━━━━━━━━━━━━━━━━━━━━━━━━━\u001b[0m \u001b[32m297.8/297.8 kB\u001b[0m \u001b[31m16.0 MB/s\u001b[0m eta \u001b[36m0:00:00\u001b[0m\n",
            "\u001b[2K   \u001b[90m━━━━━━━━━━━━━━━━━━━━━━━━━━━━━━━━━━━━━━━━\u001b[0m \u001b[32m969.6/969.6 kB\u001b[0m \u001b[31m35.8 MB/s\u001b[0m eta \u001b[36m0:00:00\u001b[0m\n",
            "\u001b[2K   \u001b[90m━━━━━━━━━━━━━━━━━━━━━━━━━━━━━━━━━━━━━━━━\u001b[0m \u001b[32m244.3/244.3 kB\u001b[0m \u001b[31m19.5 MB/s\u001b[0m eta \u001b[36m0:00:00\u001b[0m\n",
            "\u001b[2K   \u001b[90m━━━━━━━━━━━━━━━━━━━━━━━━━━━━━━━━━━━━━━━━\u001b[0m \u001b[32m3.1/3.1 MB\u001b[0m \u001b[31m71.4 MB/s\u001b[0m eta \u001b[36m0:00:00\u001b[0m\n",
            "\u001b[2K   \u001b[90m━━━━━━━━━━━━━━━━━━━━━━━━━━━━━━━━━━━━━━━━\u001b[0m \u001b[32m236.0/236.0 kB\u001b[0m \u001b[31m18.3 MB/s\u001b[0m eta \u001b[36m0:00:00\u001b[0m\n",
            "\u001b[?25h  Building wheel for fire (setup.py) ... \u001b[?25l\u001b[?25hdone\n"
          ]
        }
      ]
    },
    {
      "cell_type": "code",
      "source": [
        "! pip install datasets -q"
      ],
      "metadata": {
        "id": "5AiwbQ-_lsvY",
        "colab": {
          "base_uri": "https://localhost:8080/"
        },
        "outputId": "dcc88966-6f18-40e5-b209-1a5fa3229710",
        "collapsed": true
      },
      "execution_count": null,
      "outputs": [
        {
          "output_type": "stream",
          "name": "stdout",
          "text": [
            "\u001b[?25l   \u001b[90m━━━━━━━━━━━━━━━━━━━━━━━━━━━━━━━━━━━━━━━━\u001b[0m \u001b[32m0.0/480.6 kB\u001b[0m \u001b[31m?\u001b[0m eta \u001b[36m-:--:--\u001b[0m\r\u001b[2K   \u001b[90m━━━━━━━━━━━━━━━━━━━━━━━━━━━━━━━━━━━━━━━━\u001b[0m \u001b[32m480.6/480.6 kB\u001b[0m \u001b[31m20.4 MB/s\u001b[0m eta \u001b[36m0:00:00\u001b[0m\n",
            "\u001b[?25h\u001b[?25l   \u001b[90m━━━━━━━━━━━━━━━━━━━━━━━━━━━━━━━━━━━━━━━━\u001b[0m \u001b[32m0.0/116.3 kB\u001b[0m \u001b[31m?\u001b[0m eta \u001b[36m-:--:--\u001b[0m\r\u001b[2K   \u001b[90m━━━━━━━━━━━━━━━━━━━━━━━━━━━━━━━━━━━━━━━━\u001b[0m \u001b[32m116.3/116.3 kB\u001b[0m \u001b[31m9.7 MB/s\u001b[0m eta \u001b[36m0:00:00\u001b[0m\n",
            "\u001b[?25h\u001b[?25l   \u001b[90m━━━━━━━━━━━━━━━━━━━━━━━━━━━━━━━━━━━━━━━━\u001b[0m \u001b[32m0.0/179.3 kB\u001b[0m \u001b[31m?\u001b[0m eta \u001b[36m-:--:--\u001b[0m\r\u001b[2K   \u001b[90m━━━━━━━━━━━━━━━━━━━━━━━━━━━━━━━━━━━━━━━━\u001b[0m \u001b[32m179.3/179.3 kB\u001b[0m \u001b[31m15.6 MB/s\u001b[0m eta \u001b[36m0:00:00\u001b[0m\n",
            "\u001b[?25h\u001b[?25l   \u001b[90m━━━━━━━━━━━━━━━━━━━━━━━━━━━━━━━━━━━━━━━━\u001b[0m \u001b[32m0.0/143.5 kB\u001b[0m \u001b[31m?\u001b[0m eta \u001b[36m-:--:--\u001b[0m\r\u001b[2K   \u001b[90m━━━━━━━━━━━━━━━━━━━━━━━━━━━━━━━━━━━━━━━━\u001b[0m \u001b[32m143.5/143.5 kB\u001b[0m \u001b[31m9.8 MB/s\u001b[0m eta \u001b[36m0:00:00\u001b[0m\n",
            "\u001b[?25h\u001b[?25l   \u001b[90m━━━━━━━━━━━━━━━━━━━━━━━━━━━━━━━━━━━━━━━━\u001b[0m \u001b[32m0.0/194.8 kB\u001b[0m \u001b[31m?\u001b[0m eta \u001b[36m-:--:--\u001b[0m\r\u001b[2K   \u001b[91m━━━━━━━━━━━━━━━━━━━━━━━━━━━━━━━━━━━━━━━\u001b[0m\u001b[91m╸\u001b[0m \u001b[32m194.6/194.8 kB\u001b[0m \u001b[31m162.8 MB/s\u001b[0m eta \u001b[36m0:00:01\u001b[0m\r\u001b[2K   \u001b[90m━━━━━━━━━━━━━━━━━━━━━━━━━━━━━━━━━━━━━━━━\u001b[0m \u001b[32m194.8/194.8 kB\u001b[0m \u001b[31m6.0 MB/s\u001b[0m eta \u001b[36m0:00:00\u001b[0m\n",
            "\u001b[?25h\u001b[31mERROR: pip's dependency resolver does not currently take into account all the packages that are installed. This behaviour is the source of the following dependency conflicts.\n",
            "gcsfs 2024.10.0 requires fsspec==2024.10.0, but you have fsspec 2024.9.0 which is incompatible.\u001b[0m\u001b[31m\n",
            "\u001b[0m"
          ]
        }
      ]
    },
    {
      "cell_type": "code",
      "source": [
        "from zipfile import ZipFile\n",
        "img_data= \"/content/dataset.zip\""
      ],
      "metadata": {
        "id": "Jmyr6o5Emidp"
      },
      "execution_count": null,
      "outputs": []
    },
    {
      "cell_type": "code",
      "source": [
        "with ZipFile(img_data, 'r') as zip:\n",
        "  zip.extractall()\n",
        "  print('Done')"
      ],
      "metadata": {
        "colab": {
          "base_uri": "https://localhost:8080/"
        },
        "id": "XrdHvhcUnXqn",
        "outputId": "cf4da816-a88c-41fd-9b8c-2adec0d10c16"
      },
      "execution_count": null,
      "outputs": [
        {
          "output_type": "stream",
          "name": "stdout",
          "text": [
            "Done\n"
          ]
        }
      ]
    },
    {
      "cell_type": "code",
      "source": [
        "import os\n",
        "import cv2\n",
        "import numpy as np\n",
        "import tensorflow as tf\n",
        "from tensorflow.keras.preprocessing.image import ImageDataGenerator\n",
        "\n",
        "# Define dataset path\n",
        "DATASET_PATH = \"/content/dataset_1\"\n",
        "\n",
        "# Image parameters\n",
        "IMG_SIZE = (224, 224)  # Resizing images for MobileNetV2\n",
        "BATCH_SIZE = 32\n",
        "\n",
        "# Increase data augmentation\n",
        "datagen = ImageDataGenerator(\n",
        "    rescale=1.0/255,\n",
        "    validation_split=0.2,\n",
        ")\n",
        "\n",
        "\n",
        "# Load Training and Validation Data\n",
        "train_generator = datagen.flow_from_directory(\n",
        "    DATASET_PATH,\n",
        "    target_size=IMG_SIZE,\n",
        "    batch_size=BATCH_SIZE,\n",
        "    class_mode='categorical',\n",
        "    subset='training'\n",
        ")\n",
        "\n",
        "val_generator = datagen.flow_from_directory(\n",
        "    DATASET_PATH,\n",
        "    target_size=IMG_SIZE,\n",
        "    batch_size=BATCH_SIZE,\n",
        "    class_mode='categorical',\n",
        "    subset='validation'\n",
        ")"
      ],
      "metadata": {
        "colab": {
          "base_uri": "https://localhost:8080/"
        },
        "id": "mVmVjkVpnfBU",
        "outputId": "b5acf338-26f7-4605-809f-7c6b90ac0e1c"
      },
      "execution_count": null,
      "outputs": [
        {
          "output_type": "stream",
          "name": "stdout",
          "text": [
            "Found 745 images belonging to 3 classes.\n",
            "Found 185 images belonging to 3 classes.\n"
          ]
        }
      ]
    },
    {
      "cell_type": "code",
      "source": [
        "from tensorflow.keras.applications import MobileNetV2\n",
        "from tensorflow.keras.layers import Dense, Flatten, Dropout, LeakyReLU\n",
        "from tensorflow.keras.models import Model\n",
        "\n",
        "# Load pre-trained MobileNetV2\n",
        "base_model = MobileNetV2(weights=\"imagenet\", include_top=False, input_shape=(224, 224, 3))\n",
        "\n",
        "# Freeze base model layers\n",
        "base_model.trainable = False\n",
        "\n",
        "\n",
        "# Add custom classification head\n",
        "x = Flatten()(base_model.output)\n",
        "x = Dense(256)(x)\n",
        "x = LeakyReLU(alpha=0.1)(x)\n",
        "x = Dropout(0.5)(x)\n",
        "x = Dense(3, activation='softmax')(x)  # 3 classes\n",
        "\n",
        "\n",
        "# Compile the model\n",
        "model = Model(inputs=base_model.input, outputs=x)\n",
        "model.compile(optimizer='adam', loss=\"categorical_crossentropy\", metrics=[\"accuracy\"])\n",
        "\n",
        "# Train the model\n",
        "model.fit(train_generator, validation_data=val_generator, epochs=10)\n",
        "\n",
        "# # Save the trained model\n",
        "# model.save(\"document_classifier.keras\")"
      ],
      "metadata": {
        "colab": {
          "base_uri": "https://localhost:8080/"
        },
        "id": "Kc6hOexzoze_",
        "outputId": "e9662d91-7e18-4c54-9086-1723ecb0ee75"
      },
      "execution_count": null,
      "outputs": [
        {
          "output_type": "stream",
          "name": "stdout",
          "text": [
            "Downloading data from https://storage.googleapis.com/tensorflow/keras-applications/mobilenet_v2/mobilenet_v2_weights_tf_dim_ordering_tf_kernels_1.0_224_no_top.h5\n",
            "\u001b[1m9406464/9406464\u001b[0m \u001b[32m━━━━━━━━━━━━━━━━━━━━\u001b[0m\u001b[37m\u001b[0m \u001b[1m1s\u001b[0m 0us/step\n"
          ]
        },
        {
          "output_type": "stream",
          "name": "stderr",
          "text": [
            "/usr/local/lib/python3.11/dist-packages/keras/src/layers/activations/leaky_relu.py:41: UserWarning: Argument `alpha` is deprecated. Use `negative_slope` instead.\n",
            "  warnings.warn(\n",
            "/usr/local/lib/python3.11/dist-packages/keras/src/trainers/data_adapters/py_dataset_adapter.py:121: UserWarning: Your `PyDataset` class should call `super().__init__(**kwargs)` in its constructor. `**kwargs` can include `workers`, `use_multiprocessing`, `max_queue_size`. Do not pass these arguments to `fit()`, as they will be ignored.\n",
            "  self._warn_if_super_not_called()\n"
          ]
        },
        {
          "output_type": "stream",
          "name": "stdout",
          "text": [
            "Epoch 1/10\n",
            "\u001b[1m24/24\u001b[0m \u001b[32m━━━━━━━━━━━━━━━━━━━━\u001b[0m\u001b[37m\u001b[0m \u001b[1m29s\u001b[0m 746ms/step - accuracy: 0.5782 - loss: 9.1969 - val_accuracy: 0.6378 - val_loss: 7.7685\n",
            "Epoch 2/10\n",
            "\u001b[1m24/24\u001b[0m \u001b[32m━━━━━━━━━━━━━━━━━━━━\u001b[0m\u001b[37m\u001b[0m \u001b[1m5s\u001b[0m 225ms/step - accuracy: 0.8569 - loss: 1.5017 - val_accuracy: 0.6432 - val_loss: 8.0312\n",
            "Epoch 3/10\n",
            "\u001b[1m24/24\u001b[0m \u001b[32m━━━━━━━━━━━━━━━━━━━━\u001b[0m\u001b[37m\u001b[0m \u001b[1m10s\u001b[0m 194ms/step - accuracy: 0.9120 - loss: 0.6352 - val_accuracy: 0.6595 - val_loss: 9.8603\n",
            "Epoch 4/10\n",
            "\u001b[1m24/24\u001b[0m \u001b[32m━━━━━━━━━━━━━━━━━━━━\u001b[0m\u001b[37m\u001b[0m \u001b[1m6s\u001b[0m 262ms/step - accuracy: 0.9485 - loss: 0.3340 - val_accuracy: 0.6703 - val_loss: 10.0095\n",
            "Epoch 5/10\n",
            "\u001b[1m24/24\u001b[0m \u001b[32m━━━━━━━━━━━━━━━━━━━━\u001b[0m\u001b[37m\u001b[0m \u001b[1m5s\u001b[0m 193ms/step - accuracy: 0.9533 - loss: 0.3324 - val_accuracy: 0.6703 - val_loss: 8.2738\n",
            "Epoch 6/10\n",
            "\u001b[1m24/24\u001b[0m \u001b[32m━━━━━━━━━━━━━━━━━━━━\u001b[0m\u001b[37m\u001b[0m \u001b[1m5s\u001b[0m 207ms/step - accuracy: 0.9608 - loss: 0.2095 - val_accuracy: 0.6865 - val_loss: 7.3579\n",
            "Epoch 7/10\n",
            "\u001b[1m24/24\u001b[0m \u001b[32m━━━━━━━━━━━━━━━━━━━━\u001b[0m\u001b[37m\u001b[0m \u001b[1m6s\u001b[0m 223ms/step - accuracy: 0.9551 - loss: 0.2556 - val_accuracy: 0.6757 - val_loss: 7.9424\n",
            "Epoch 8/10\n",
            "\u001b[1m24/24\u001b[0m \u001b[32m━━━━━━━━━━━━━━━━━━━━\u001b[0m\u001b[37m\u001b[0m \u001b[1m5s\u001b[0m 189ms/step - accuracy: 0.9722 - loss: 0.1465 - val_accuracy: 0.6486 - val_loss: 9.6873\n",
            "Epoch 9/10\n",
            "\u001b[1m24/24\u001b[0m \u001b[32m━━━━━━━━━━━━━━━━━━━━\u001b[0m\u001b[37m\u001b[0m \u001b[1m6s\u001b[0m 246ms/step - accuracy: 0.9699 - loss: 0.1470 - val_accuracy: 0.6865 - val_loss: 9.1738\n",
            "Epoch 10/10\n",
            "\u001b[1m24/24\u001b[0m \u001b[32m━━━━━━━━━━━━━━━━━━━━\u001b[0m\u001b[37m\u001b[0m \u001b[1m5s\u001b[0m 189ms/step - accuracy: 0.9765 - loss: 0.1458 - val_accuracy: 0.6757 - val_loss: 8.4024\n"
          ]
        },
        {
          "output_type": "execute_result",
          "data": {
            "text/plain": [
              "<keras.src.callbacks.history.History at 0x7b07b902ad10>"
            ]
          },
          "metadata": {},
          "execution_count": 10
        }
      ]
    },
    {
      "cell_type": "code",
      "source": [
        "from tensorflow.keras.callbacks import ModelCheckpoint\n",
        "base_model.trainable = True\n",
        "\n",
        "\n",
        "for layer in base_model.layers[:120]:  # Unfreeze last 20 layers\n",
        "    layer.trainable = True\n",
        "\n",
        "# Re-compile the model after unfreezing\n",
        "model.compile(optimizer=tf.keras.optimizers.Adam(learning_rate=1e-5),\n",
        "              loss=\"categorical_crossentropy\",\n",
        "              metrics=[\"accuracy\"])\n",
        "\n",
        "# Create a ModelCheckpoint callback to save the best model\n",
        "checkpoint = ModelCheckpoint(\n",
        "    \"best_model.h5\",  # Name of the file where model will be saved\n",
        "    monitor=\"val_accuracy\",  # Metric to monitor\n",
        "    save_best_only=True,  # Save only the best model\n",
        "    mode=\"max\",  # Mode for maximizing the monitored metric\n",
        "    verbose=1  # Verbosity mode\n",
        ")\n",
        "\n",
        "# Train the model again with the callback\n",
        "model.fit(train_generator,\n",
        "          validation_data=val_generator,\n",
        "          epochs=10,\n",
        "          callbacks=[checkpoint])  # Add the checkpoint callback\n"
      ],
      "metadata": {
        "colab": {
          "base_uri": "https://localhost:8080/"
        },
        "id": "oNd_t_IDE2yM",
        "outputId": "847e6e23-08cb-443c-b41c-9be6de4943a6"
      },
      "execution_count": null,
      "outputs": [
        {
          "output_type": "stream",
          "name": "stdout",
          "text": [
            "Epoch 1/10\n",
            "\u001b[1m24/24\u001b[0m \u001b[32m━━━━━━━━━━━━━━━━━━━━\u001b[0m\u001b[37m\u001b[0m \u001b[1m0s\u001b[0m 1s/step - accuracy: 0.9078 - loss: 0.6273\n",
            "Epoch 1: val_accuracy improved from -inf to 0.67568, saving model to best_model.h5\n"
          ]
        },
        {
          "output_type": "stream",
          "name": "stderr",
          "text": [
            "WARNING:absl:You are saving your model as an HDF5 file via `model.save()` or `keras.saving.save_model(model)`. This file format is considered legacy. We recommend using instead the native Keras format, e.g. `model.save('my_model.keras')` or `keras.saving.save_model(model, 'my_model.keras')`. \n"
          ]
        },
        {
          "output_type": "stream",
          "name": "stdout",
          "text": [
            "\b\b\b\b\b\b\b\b\b\b\b\b\b\b\b\b\b\b\b\b\b\b\b\b\b\b\b\b\b\b\b\b\b\b\b\b\b\b\b\b\b\b\b\b\b\b\b\b\b\b\b\b\b\b\b\b\b\b\b\b\b\b\b\b\b\b\b\b\b\b\b\r\u001b[1m24/24\u001b[0m \u001b[32m━━━━━━━━━━━━━━━━━━━━\u001b[0m\u001b[37m\u001b[0m \u001b[1m84s\u001b[0m 1s/step - accuracy: 0.9081 - loss: 0.6265 - val_accuracy: 0.6757 - val_loss: 6.5519\n",
            "Epoch 2/10\n",
            "\u001b[1m24/24\u001b[0m \u001b[32m━━━━━━━━━━━━━━━━━━━━\u001b[0m\u001b[37m\u001b[0m \u001b[1m0s\u001b[0m 224ms/step - accuracy: 0.9164 - loss: 0.5950\n",
            "Epoch 2: val_accuracy improved from 0.67568 to 0.68649, saving model to best_model.h5\n"
          ]
        },
        {
          "output_type": "stream",
          "name": "stderr",
          "text": [
            "WARNING:absl:You are saving your model as an HDF5 file via `model.save()` or `keras.saving.save_model(model)`. This file format is considered legacy. We recommend using instead the native Keras format, e.g. `model.save('my_model.keras')` or `keras.saving.save_model(model, 'my_model.keras')`. \n"
          ]
        },
        {
          "output_type": "stream",
          "name": "stdout",
          "text": [
            "\b\b\b\b\b\b\b\b\b\b\b\b\b\b\b\b\b\b\b\b\b\b\b\b\b\b\b\b\b\b\b\b\b\b\b\b\b\b\b\b\b\b\b\b\b\b\b\b\b\b\b\b\b\b\b\b\b\b\b\b\b\b\b\b\b\b\b\b\b\b\b\b\b\b\r\u001b[1m24/24\u001b[0m \u001b[32m━━━━━━━━━━━━━━━━━━━━\u001b[0m\u001b[37m\u001b[0m \u001b[1m8s\u001b[0m 317ms/step - accuracy: 0.9165 - loss: 0.5929 - val_accuracy: 0.6865 - val_loss: 6.5014\n",
            "Epoch 3/10\n",
            "\u001b[1m24/24\u001b[0m \u001b[32m━━━━━━━━━━━━━━━━━━━━\u001b[0m\u001b[37m\u001b[0m \u001b[1m0s\u001b[0m 173ms/step - accuracy: 0.9230 - loss: 0.5304\n",
            "Epoch 3: val_accuracy did not improve from 0.68649\n",
            "\u001b[1m24/24\u001b[0m \u001b[32m━━━━━━━━━━━━━━━━━━━━\u001b[0m\u001b[37m\u001b[0m \u001b[1m8s\u001b[0m 212ms/step - accuracy: 0.9235 - loss: 0.5281 - val_accuracy: 0.6757 - val_loss: 6.1896\n",
            "Epoch 4/10\n",
            "\u001b[1m24/24\u001b[0m \u001b[32m━━━━━━━━━━━━━━━━━━━━\u001b[0m\u001b[37m\u001b[0m \u001b[1m0s\u001b[0m 174ms/step - accuracy: 0.9278 - loss: 0.6430\n",
            "Epoch 4: val_accuracy did not improve from 0.68649\n",
            "\u001b[1m24/24\u001b[0m \u001b[32m━━━━━━━━━━━━━━━━━━━━\u001b[0m\u001b[37m\u001b[0m \u001b[1m10s\u001b[0m 212ms/step - accuracy: 0.9286 - loss: 0.6356 - val_accuracy: 0.6811 - val_loss: 6.1644\n",
            "Epoch 5/10\n",
            "\u001b[1m24/24\u001b[0m \u001b[32m━━━━━━━━━━━━━━━━━━━━\u001b[0m\u001b[37m\u001b[0m \u001b[1m0s\u001b[0m 222ms/step - accuracy: 0.9552 - loss: 0.2795\n",
            "Epoch 5: val_accuracy did not improve from 0.68649\n",
            "\u001b[1m24/24\u001b[0m \u001b[32m━━━━━━━━━━━━━━━━━━━━\u001b[0m\u001b[37m\u001b[0m \u001b[1m6s\u001b[0m 261ms/step - accuracy: 0.9552 - loss: 0.2800 - val_accuracy: 0.6757 - val_loss: 6.2744\n",
            "Epoch 6/10\n",
            "\u001b[1m24/24\u001b[0m \u001b[32m━━━━━━━━━━━━━━━━━━━━\u001b[0m\u001b[37m\u001b[0m \u001b[1m0s\u001b[0m 172ms/step - accuracy: 0.9832 - loss: 0.1034\n",
            "Epoch 6: val_accuracy did not improve from 0.68649\n",
            "\u001b[1m24/24\u001b[0m \u001b[32m━━━━━━━━━━━━━━━━━━━━\u001b[0m\u001b[37m\u001b[0m \u001b[1m5s\u001b[0m 211ms/step - accuracy: 0.9829 - loss: 0.1055 - val_accuracy: 0.6649 - val_loss: 6.2377\n",
            "Epoch 7/10\n",
            "\u001b[1m24/24\u001b[0m \u001b[32m━━━━━━━━━━━━━━━━━━━━\u001b[0m\u001b[37m\u001b[0m \u001b[1m0s\u001b[0m 183ms/step - accuracy: 0.9738 - loss: 0.1414\n",
            "Epoch 7: val_accuracy did not improve from 0.68649\n",
            "\u001b[1m24/24\u001b[0m \u001b[32m━━━━━━━━━━━━━━━━━━━━\u001b[0m\u001b[37m\u001b[0m \u001b[1m6s\u001b[0m 247ms/step - accuracy: 0.9736 - loss: 0.1425 - val_accuracy: 0.6757 - val_loss: 6.0990\n",
            "Epoch 8/10\n",
            "\u001b[1m24/24\u001b[0m \u001b[32m━━━━━━━━━━━━━━━━━━━━\u001b[0m\u001b[37m\u001b[0m \u001b[1m0s\u001b[0m 186ms/step - accuracy: 0.9751 - loss: 0.1317\n",
            "Epoch 8: val_accuracy did not improve from 0.68649\n",
            "\u001b[1m24/24\u001b[0m \u001b[32m━━━━━━━━━━━━━━━━━━━━\u001b[0m\u001b[37m\u001b[0m \u001b[1m6s\u001b[0m 226ms/step - accuracy: 0.9750 - loss: 0.1323 - val_accuracy: 0.6757 - val_loss: 6.0035\n",
            "Epoch 9/10\n",
            "\u001b[1m24/24\u001b[0m \u001b[32m━━━━━━━━━━━━━━━━━━━━\u001b[0m\u001b[37m\u001b[0m \u001b[1m0s\u001b[0m 173ms/step - accuracy: 0.9725 - loss: 0.1608\n",
            "Epoch 9: val_accuracy did not improve from 0.68649\n",
            "\u001b[1m24/24\u001b[0m \u001b[32m━━━━━━━━━━━━━━━━━━━━\u001b[0m\u001b[37m\u001b[0m \u001b[1m5s\u001b[0m 213ms/step - accuracy: 0.9724 - loss: 0.1607 - val_accuracy: 0.6703 - val_loss: 5.9222\n",
            "Epoch 10/10\n",
            "\u001b[1m24/24\u001b[0m \u001b[32m━━━━━━━━━━━━━━━━━━━━\u001b[0m\u001b[37m\u001b[0m \u001b[1m0s\u001b[0m 224ms/step - accuracy: 0.9836 - loss: 0.1045\n",
            "Epoch 10: val_accuracy did not improve from 0.68649\n",
            "\u001b[1m24/24\u001b[0m \u001b[32m━━━━━━━━━━━━━━━━━━━━\u001b[0m\u001b[37m\u001b[0m \u001b[1m6s\u001b[0m 264ms/step - accuracy: 0.9834 - loss: 0.1060 - val_accuracy: 0.6703 - val_loss: 6.0344\n"
          ]
        },
        {
          "output_type": "execute_result",
          "data": {
            "text/plain": [
              "<keras.src.callbacks.history.History at 0x7b071f8e8990>"
            ]
          },
          "metadata": {},
          "execution_count": 12
        }
      ]
    },
    {
      "cell_type": "code",
      "source": [
        "test_loss, test_accuracy = model.evaluate(val_generator)\n",
        "\n",
        "# Print the evaluation results\n",
        "print(f\"Test Loss: {test_loss}\")\n",
        "print(f\"Test Accuracy: {test_accuracy}\")"
      ],
      "metadata": {
        "colab": {
          "base_uri": "https://localhost:8080/"
        },
        "id": "sqteX96WqfCf",
        "outputId": "b3cf07a2-663c-49b8-b6c8-1935a1899630"
      },
      "execution_count": null,
      "outputs": [
        {
          "output_type": "stream",
          "name": "stdout",
          "text": [
            "\u001b[1m6/6\u001b[0m \u001b[32m━━━━━━━━━━━━━━━━━━━━\u001b[0m\u001b[37m\u001b[0m \u001b[1m10s\u001b[0m 1s/step - accuracy: 0.6959 - loss: 3.7229\n",
            "Test Loss: 3.634726047515869\n",
            "Test Accuracy: 0.6702702641487122\n"
          ]
        }
      ]
    },
    {
      "cell_type": "code",
      "source": [
        "# Define test dataset path\n",
        "TEST_DATASET_PATH = \"/content/dataset_1\"\n",
        "\n",
        "# Load Test Data\n",
        "test_generator = datagen.flow_from_directory(\n",
        "    TEST_DATASET_PATH,\n",
        "    target_size=IMG_SIZE,\n",
        "    batch_size=BATCH_SIZE,\n",
        "    class_mode='categorical',\n",
        "    shuffle=False  # Important to keep the order of samples for evaluation\n",
        ")"
      ],
      "metadata": {
        "colab": {
          "base_uri": "https://localhost:8080/"
        },
        "id": "1xSPOcyas7jE",
        "outputId": "ba012350-4711-4d1f-b957-4a1ada473a13"
      },
      "execution_count": null,
      "outputs": [
        {
          "output_type": "stream",
          "name": "stdout",
          "text": [
            "Found 930 images belonging to 3 classes.\n"
          ]
        }
      ]
    },
    {
      "cell_type": "code",
      "source": [
        "from sklearn.metrics import confusion_matrix\n",
        "import seaborn as sns\n",
        "import matplotlib.pyplot as plt\n",
        "\n",
        "# Predict on the test set\n",
        "y_pred = model.predict(test_generator)\n",
        "y_pred_classes = np.argmax(y_pred, axis=1)  # Convert predictions to class labels\n",
        "\n",
        "# Get true labels\n",
        "y_true = test_generator.classes\n",
        "\n",
        "# Generate confusion matrix\n",
        "cm = confusion_matrix(y_true, y_pred_classes)\n",
        "\n",
        "# Plot confusion matrix\n",
        "plt.figure(figsize=(10, 7))\n",
        "sns.heatmap(cm, annot=True, fmt=\"d\", cmap=\"Blues\", xticklabels=test_generator.class_indices, yticklabels=test_generator.class_indices)\n",
        "plt.xlabel('Predicted')\n",
        "plt.ylabel('True')\n",
        "plt.show()\n"
      ],
      "metadata": {
        "id": "56sUgRu1BJdk",
        "colab": {
          "base_uri": "https://localhost:8080/",
          "height": 691
        },
        "outputId": "6e9461d0-51cb-45bd-b02c-790f0f6934ff"
      },
      "execution_count": null,
      "outputs": [
        {
          "output_type": "stream",
          "name": "stderr",
          "text": [
            "/usr/local/lib/python3.11/dist-packages/keras/src/trainers/data_adapters/py_dataset_adapter.py:121: UserWarning: Your `PyDataset` class should call `super().__init__(**kwargs)` in its constructor. `**kwargs` can include `workers`, `use_multiprocessing`, `max_queue_size`. Do not pass these arguments to `fit()`, as they will be ignored.\n",
            "  self._warn_if_super_not_called()\n"
          ]
        },
        {
          "output_type": "stream",
          "name": "stdout",
          "text": [
            "\u001b[1m30/30\u001b[0m \u001b[32m━━━━━━━━━━━━━━━━━━━━\u001b[0m\u001b[37m\u001b[0m \u001b[1m13s\u001b[0m 282ms/step\n"
          ]
        },
        {
          "output_type": "display_data",
          "data": {
            "text/plain": [
              "<Figure size 1000x700 with 2 Axes>"
            ],
            "image/png": "[encoded data removed]"
          },
          "metadata": {}
        }
      ]
    },
    {
      "cell_type": "code",
      "source": [
        "!pip3 install torch torchvision torchaudio -q"
      ],
      "metadata": {
        "id": "O0TRQcbyhWs0"
      },
      "execution_count": null,
      "outputs": []
    },
    {
      "cell_type": "code",
      "source": [
        "! pip install easyocr -q"
      ],
      "metadata": {
        "colab": {
          "base_uri": "https://localhost:8080/"
        },
        "collapsed": true,
        "id": "xLuV87kO7YO2",
        "outputId": "5364ad26-a9b5-4e53-ad45-635499fcb3d1"
      },
      "execution_count": null,
      "outputs": [
        {
          "output_type": "stream",
          "name": "stdout",
          "text": [
            "\u001b[?25l   \u001b[90m━━━━━━━━━━━━━━━━━━━━━━━━━━━━━━━━━━━━━━━━\u001b[0m \u001b[32m0.0/2.9 MB\u001b[0m \u001b[31m?\u001b[0m eta \u001b[36m-:--:--\u001b[0m\r\u001b[2K   \u001b[91m━━━━━━━━━━━━━━━━━━━━━━━━━━━━━━━━━━━━━━━\u001b[0m\u001b[91m╸\u001b[0m \u001b[32m2.9/2.9 MB\u001b[0m \u001b[31m124.7 MB/s\u001b[0m eta \u001b[36m0:00:01\u001b[0m\r\u001b[2K   \u001b[90m━━━━━━━━━━━━━━━━━━━━━━━━━━━━━━━━━━━━━━━━\u001b[0m \u001b[32m2.9/2.9 MB\u001b[0m \u001b[31m60.5 MB/s\u001b[0m eta \u001b[36m0:00:00\u001b[0m\n",
            "\u001b[2K   \u001b[90m━━━━━━━━━━━━━━━━━━━━━━━━━━━━━━━━━━━━━━━━\u001b[0m \u001b[32m422.9/422.9 kB\u001b[0m \u001b[31m23.9 MB/s\u001b[0m eta \u001b[36m0:00:00\u001b[0m\n",
            "\u001b[2K   \u001b[90m━━━━━━━━━━━━━━━━━━━━━━━━━━━━━━━━━━━━━━━━\u001b[0m \u001b[32m286.6/286.6 kB\u001b[0m \u001b[31m22.8 MB/s\u001b[0m eta \u001b[36m0:00:00\u001b[0m\n",
            "\u001b[?25h"
          ]
        }
      ]
    },
    {
      "cell_type": "code",
      "source": [
        "import easyocr\n",
        "\n",
        "reader = easyocr.Reader(['en']) # specify the language\n",
        "result = reader.readtext('/content/dataset_1/invoice/0000137486.jpg')\n",
        "\n",
        "for (bbox, text, prob) in result:\n",
        "    print(f'Text: {text}, Probability: {prob}')\n"
      ],
      "metadata": {
        "id": "aotZwsX9o9vx",
        "colab": {
          "base_uri": "https://localhost:8080/"
        },
        "outputId": "90b5ef6a-c707-4d9a-cc40-3cdea7341d90"
      },
      "execution_count": null,
      "outputs": [
        {
          "output_type": "stream",
          "name": "stderr",
          "text": [
            "WARNING:easyocr.easyocr:Downloading detection model, please wait. This may take several minutes depending upon your network connection.\n"
          ]
        },
        {
          "output_type": "stream",
          "name": "stdout",
          "text": [
            "Progress: |██████████████████████████████████████████████████| 100.0% Complete"
          ]
        },
        {
          "output_type": "stream",
          "name": "stderr",
          "text": [
            "WARNING:easyocr.easyocr:Downloading recognition model, please wait. This may take several minutes depending upon your network connection.\n"
          ]
        },
        {
          "output_type": "stream",
          "name": "stdout",
          "text": [
            "Progress: |██████████████████████████████████████████████████| 100.0% CompleteText: KMRG International Inc, Probability: 0.5087782216293669\n",
            "Text: #ETchum, Probability: 0.11505952386934028\n",
            "Text: KaclLod, Probability: 0.13381685906865273\n",
            "Text: GRCv:, Probability: 0.17588905179007308\n",
            "Text: PUGLIC, Probability: 0.599947414079444\n",
            "Text: AEL ., Probability: 0.2963484960701458\n",
            "Text: 008, Probability: 0.1772195372256639\n",
            "Text: GrTeWay Cemter, Probability: 0.08910948601698221\n",
            "Text: PIttsburgh,, Probability: 0.21890517253012234\n",
            "Text: 15222, Probability: 0.9199944943941785\n",
            "Text: BRunh, Probability: 0.015095678775020924\n",
            "Text: RILLIAMSui, Probability: 0.05520271566033986\n",
            "Text: iob4ccl, Probability: 0.13125903106062695\n",
            "Text: carp, Probability: 0.054791416972875595\n",
            "Text: HAIL, Probability: 0.4876619577407837\n",
            "Text: REMITTANCE, Probability: 0.24357256810991285\n",
            "Text: Pox, Probability: 0.591601249517649\n",
            "Text: 3509], Probability: 0.588735655363104\n",
            "Text: InTERMGTIONAL, Probability: 0.15657953565594296\n",
            "Text: INC;, Probability: 0.17736661434173584\n",
            "Text: LLm, Probability: 0.05131895318196342\n",
            "Text: Jes, Probability: 0.1198350713870371\n",
            "Text: #ILL, Probability: 0.815047025680542\n",
            "Text: Strzet, Probability: 0.17174587042089542\n",
            "Text: 5a Te44Y, Probability: 0.04956326692777265\n",
            "Text: CENTER, Probability: 0.43729927928011897\n",
            "Text: LOUISVILLE:, Probability: 0.36272539616835536\n",
            "Text: 40232, Probability: 0.8620752550358358\n",
            "Text: Pittsbbrgx,, Probability: 0.05565191626740295\n",
            "Text: [5222, Probability: 0.8857257142983092\n",
            "Text: 4Ttn, Probability: 0.17317520081996918\n",
            "Text: BRADLET, Probability: 0.14376583526606565\n",
            "Text: BROECrzR, Probability: 0.2718160327745526\n",
            "Text: Ittr, Probability: 0.08813216537237167\n",
            "Text: TRE, Probability: 0.8624479850183837\n",
            "Text: Sizy, Probability: 0.133817657828331\n",
            "Text: Dzpartheni, Probability: 0.27345496363926\n",
            "Text: Hanacer MARKETINS ACTIVITIES, Probability: 0.19116880720320967\n",
            "Text: DUMS, Probability: 0.24230392277240753\n",
            "Text: 791-5937, Probability: 0.9220207866358567\n",
            "Text: joa,, Probability: 0.20556436479091644\n",
            "Text: 47783, Probability: 0.2364853976230278\n",
            "Text: 00387z895, Probability: 0.21238375849891677\n",
            "Text: '/42,81, Probability: 0.18846723355497014\n",
            "Text: 1347526&1, Probability: 0.3546405258364459\n",
            "Text: Cobt_nounio, Probability: 0.008713819717447887\n",
            "Text: Vce, Probability: 0.023086265687937396\n",
            "Text: deidicgoutt, Probability: 0.01010340531773166\n",
            "Text: Ho, Probability: 0.07609886995878684\n",
            "Text: NdtomurrJnehlr, Probability: 0.0010620660469542193\n",
            "Text: Gummi SiJ AALE, Probability: 0.0064976351650378236\n",
            "Text: RElair, Probability: 0.15048327056513372\n",
            "Text: SLRNIcES, Probability: 0.10012460211409303\n",
            "Text: 1,671+23, Probability: 0.7064167501991402\n",
            "Text: 1,671.25, Probability: 0.8887978819116588\n",
            "Text: TELE-Long, Probability: 0.33140454620186355\n",
            "Text: DIstaNcE 82181, Probability: 0.14358346758432536\n",
            "Text: 31 ., Probability: 0.40507258642004573\n",
            "Text: TotaLs, Probability: 0.16645838528689968\n",
            "Text: 1,702.52, Probability: 0.15463594111591916\n",
            "Text: 1,702., Probability: 0.3539355813775208\n",
            "Text: AgENcY, Probability: 0.08679126941000186\n",
            "Text: cuMm, Probability: 0.539677619934082\n",
            "Text: Jor, Probability: 0.8033152311775312\n",
            "Text: TOtALS, Probability: 0.13239928566440054\n",
            "Text: 1,702.52, Probability: 0.703859949721976\n",
            "Text: 722-52, Probability: 0.5716835881210091\n",
            "Text: , Probability: 0.0\n",
            "Text: 7 LG #/dei, Probability: 0.09923553125127565\n",
            "Text: Feas, Probability: 0.02359004318714142\n",
            "Text: MImm, Probability: 0.0036112237721681595\n",
            "Text: Inutr, Probability: 0.025839414165747265\n",
            "Text: Jcolcar, Probability: 0.008065860152964009\n",
            "Text: Wiaea, Probability: 0.1629137972263168\n",
            "Text: Mucut, Probability: 0.005426265815287122\n",
            "Text: Fova, Probability: 0.09116261452436447\n",
            "Text: Aenuanca, Probability: 0.033003713615069666\n",
            "Text: PRODUCTION {NVOICE-TRITLICATE, Probability: 0.300320054483937\n"
          ]
        }
      ]
    },
    {
      "cell_type": "code",
      "source": [
        "img = cv2.imread('/content/dataset_1/invoice/0000137486.jpg', 0)\n",
        "blur = cv2.GaussianBlur(img,(5,5),0)\n",
        "reader = easyocr.Reader(['en'])\n",
        "result = reader.readtext(blur)\n",
        "for (bbox, text, prob) in result:\n",
        "    print(f'Text: {text}, Probability: {prob}')"
      ],
      "metadata": {
        "colab": {
          "base_uri": "https://localhost:8080/"
        },
        "id": "Aq1j8xwX-G2O",
        "outputId": "63d7fe03-ce3d-4028-b256-d624fe357b47"
      },
      "execution_count": null,
      "outputs": [
        {
          "output_type": "stream",
          "name": "stdout",
          "text": [
            "Text: KMRG Intemational Inc:, Probability: 0.44364660590901916\n",
            "Text: Licrur Rececod, Probability: 0.10767622869020807\n",
            "Text: eave, Probability: 0.018319429829716682\n",
            "Text: PUCL[C AL', Probability: 0.024640560302925902\n",
            "Text: 008, Probability: 0.532509982585907\n",
            "Text: G4iL, Probability: 0.07076411694288254\n",
            "Text: ciatcr, Probability: 0.018291806241516027\n",
            "Text: Veona, Probability: 0.021848302962468626\n",
            "Text: 467z, Probability: 0.03201846778392792\n",
            "Text: Roor, Probability: 0.021309994161128998\n",
            "Text: AL, Probability: 0.02203236576517653\n",
            "Text: Jasom, Probability: 0.005986970827288416\n",
            "Text: Joraccl Cjep., Probability: 0.013816899364486447\n",
            "Text: rerittrce, Probability: 0.014220581417965816\n",
            "Text: 09C, Probability: 0.05215200388255757\n",
            "Text: cHIIIONAL I6e., Probability: 0.0022543385270877027\n",
            "Text: Lod, Probability: 0.40669460104235755\n",
            "Text: J0, Probability: 0.10103925498064797\n",
            "Text: MILL STIlT, Probability: 0.06666741260928372\n",
            "Text: Oijj Ccnica, Probability: 0.014977841479932976\n",
            "Text: LOUMLL,, Probability: 0.05080505141223482\n",
            "Text: 00242, Probability: 0.5039335769740209\n",
            "Text: Waueor', Probability: 0.03701695205782819\n",
            "Text: 4, Probability: 0.3674026137595412\n",
            "Text: Ralolct, Probability: 0.011184970001026799\n",
            "Text: arorcree, Probability: 0.04579463467944902\n",
            "Text: TelasuaDepazicert, Probability: 0.001741957232047474\n",
            "Text: Anaeca, Probability: 0.06652847803739306\n",
            "Text: Wanactina agtititics, Probability: 0.015096602142234641\n",
            "Text: Dln:ao:00, Probability: 0.012037341030539576\n",
            "Text: 70r-,, Probability: 0.04552807007036474\n",
            "Text: 602*,, Probability: 0.017614146472018043\n",
            "Text: Jiiis, Probability: 0.06074868232312363\n",
            "Text: 2c04734es, Probability: 0.009240222431048417\n",
            "Text: 28633041, Probability: 0.06566266913928162\n",
            "Text: 15755401, Probability: 0.10939376032351107\n",
            "Text: BAA1R, Probability: 0.028614806243031143\n",
            "Text: 'nids8i;arct, Probability: 0.003986168351076132\n",
            "Text: J218, Probability: 0.18779566884040833\n",
            "Text: 2, Probability: 0.2421293842936656\n",
            "Text: ,l., Probability: 0.02737893421088825\n",
            "Text: I0L, Probability: 0.12140523906595295\n",
            "Text: '8702.2, Probability: 0.016833992913700396\n",
            "Text: '0ne\", Probability: 0.017312507034164207\n",
            "Text: co-r, Probability: 0.15984411537647247\n",
            "Text: Jot Toials, Probability: 0.09291330839475237\n",
            "Text: 0,702.7, Probability: 0.12394090858378763\n",
            "Text: 1, Probability: 0.6943517292029355\n",
            "Text: 6, Probability: 0.9466617071389329\n",
            "Text: 7LG \"fstri, Probability: 0.2092436838379797\n",
            "Text: MC CO, Probability: 0.012486881831422991\n",
            "Text: Rced, Probability: 0.01893247291445732\n",
            "Text: nrlen, Probability: 0.02181827244489703\n"
          ]
        }
      ]
    },
    {
      "cell_type": "code",
      "source": [
        "reader = easyocr.Reader(['en'])\n",
        "result = reader.readtext('/content/dataset_1/invoice/0000137486.jpg')\n",
        "for res in result:\n",
        "    print(f\"Text: {res[1]}, Coordinates: {res[0]}\")"
      ],
      "metadata": {
        "colab": {
          "base_uri": "https://localhost:8080/"
        },
        "id": "xjEmRwkP3baH",
        "outputId": "4bee462b-c84b-436c-f5c4-cb2c0fb3d91c"
      },
      "execution_count": null,
      "outputs": [
        {
          "output_type": "stream",
          "name": "stdout",
          "text": [
            "Text: KMRG International Inc, Coordinates: [[436, 6], [650, 6], [650, 32], [436, 32]]\n",
            "Text: #ETchum, Coordinates: [[331, 43], [389, 43], [389, 57], [331, 57]]\n",
            "Text: KaclLod, Coordinates: [[393, 43], [451, 43], [451, 57], [393, 57]]\n",
            "Text: GRCv:, Coordinates: [[473, 43], [515, 43], [515, 57], [473, 57]]\n",
            "Text: PUGLIC, Coordinates: [[519, 43], [569, 43], [569, 57], [519, 57]]\n",
            "Text: AEL ., Coordinates: [[575, 43], [609, 43], [609, 57], [575, 57]]\n",
            "Text: 008, Coordinates: [[63, 55], [89, 55], [89, 71], [63, 71]]\n",
            "Text: GrTeWay Cemter, Coordinates: [[344, 53], [459, 53], [459, 71], [344, 71]]\n",
            "Text: PIttsburgh,, Coordinates: [[329, 69], [419, 69], [419, 83], [329, 83]]\n",
            "Text: 15222, Coordinates: [[455, 69], [499, 69], [499, 83], [455, 83]]\n",
            "Text: BRunh, Coordinates: [[63, 121], [105, 121], [105, 135], [63, 135]]\n",
            "Text: RILLIAMSui, Coordinates: [[125, 121], [209, 121], [209, 135], [125, 135]]\n",
            "Text: iob4ccl, Coordinates: [[213, 121], [271, 121], [271, 135], [213, 135]]\n",
            "Text: carp, Coordinates: [[275, 121], [309, 121], [309, 135], [275, 135]]\n",
            "Text: HAIL, Coordinates: [[393, 121], [427, 121], [427, 135], [393, 135]]\n",
            "Text: REMITTANCE, Coordinates: [[433, 121], [515, 121], [515, 135], [433, 135]]\n",
            "Text: Pox, Coordinates: [[109, 133], [137, 133], [137, 149], [109, 149]]\n",
            "Text: 3509], Coordinates: [[141, 133], [185, 133], [185, 147], [141, 147]]\n",
            "Text: InTERMGTIONAL, Coordinates: [[433, 133], [537, 133], [537, 147], [433, 147]]\n",
            "Text: INC;, Coordinates: [[543, 133], [577, 133], [577, 147], [543, 147]]\n",
            "Text: LLm, Coordinates: [[64, 148], [94, 148], [94, 156], [64, 156]]\n",
            "Text: Jes, Coordinates: [[103, 145], [129, 145], [129, 159], [103, 159]]\n",
            "Text: #ILL, Coordinates: [[141, 147], [175, 147], [175, 159], [141, 159]]\n",
            "Text: Strzet, Coordinates: [[181, 145], [231, 145], [231, 161], [181, 161]]\n",
            "Text: 5a Te44Y, Coordinates: [[385, 147], [443, 147], [443, 161], [385, 161]]\n",
            "Text: CENTER, Coordinates: [[449, 147], [499, 147], [499, 161], [449, 161]]\n",
            "Text: LOUISVILLE:, Coordinates: [[63, 159], [153, 159], [153, 175], [63, 175]]\n",
            "Text: 40232, Coordinates: [[189, 159], [231, 159], [231, 173], [189, 173]]\n",
            "Text: Pittsbbrgx,, Coordinates: [[369, 159], [459, 159], [459, 175], [369, 175]]\n",
            "Text: [5222, Coordinates: [[497, 159], [539, 159], [539, 175], [497, 175]]\n",
            "Text: 4Ttn, Coordinates: [[63, 173], [99, 173], [99, 187], [63, 187]]\n",
            "Text: BRADLET, Coordinates: [[149, 173], [207, 173], [207, 187], [149, 187]]\n",
            "Text: BROECrzR, Coordinates: [[235, 173], [303, 173], [303, 187], [235, 187]]\n",
            "Text: Ittr, Coordinates: [[369, 173], [405, 173], [405, 187], [369, 187]]\n",
            "Text: TRE, Coordinates: [[417, 173], [443, 173], [443, 187], [417, 187]]\n",
            "Text: Sizy, Coordinates: [[449, 173], [483, 173], [483, 187], [449, 187]]\n",
            "Text: Dzpartheni, Coordinates: [[487, 173], [569, 173], [569, 187], [487, 187]]\n",
            "Text: Hanacer MARKETINS ACTIVITIES, Coordinates: [[119, 184], [341, 184], [341, 201], [119, 201]]\n",
            "Text: DUMS, Coordinates: [[392, 184], [427, 184], [427, 202], [392, 202]]\n",
            "Text: 791-5937, Coordinates: [[489, 185], [555, 185], [555, 201], [489, 201]]\n",
            "Text: joa,, Coordinates: [[37, 205], [83, 205], [83, 225], [37, 225]]\n",
            "Text: 47783, Coordinates: [[125, 205], [169, 205], [169, 225], [125, 225]]\n",
            "Text: 00387z895, Coordinates: [[205, 207], [279, 207], [279, 227], [205, 227]]\n",
            "Text: '/42,81, Coordinates: [[352, 204], [406, 204], [406, 228], [352, 228]]\n",
            "Text: 1347526&1, Coordinates: [[494, 204], [562, 204], [562, 228], [494, 228]]\n",
            "Text: Cobt_nounio, Coordinates: [[301, 247], [359, 247], [359, 259], [301, 259]]\n",
            "Text: Vce, Coordinates: [[56, 254], [82, 254], [82, 262], [56, 262]]\n",
            "Text: deidicgoutt, Coordinates: [[454, 254], [516, 254], [516, 262], [454, 262]]\n",
            "Text: Ho, Coordinates: [[178, 260], [200, 260], [200, 268], [178, 268]]\n",
            "Text: NdtomurrJnehlr, Coordinates: [[236, 260], [318, 260], [318, 268], [236, 268]]\n",
            "Text: Gummi SiJ AALE, Coordinates: [[354, 260], [418, 260], [418, 268], [354, 268]]\n",
            "Text: RElair, Coordinates: [[17, 277], [67, 277], [67, 291], [17, 291]]\n",
            "Text: SLRNIcES, Coordinates: [[63, 303], [129, 303], [129, 317], [63, 317]]\n",
            "Text: 1,671+23, Coordinates: [[253, 303], [317, 303], [317, 319], [253, 319]]\n",
            "Text: 1,671.25, Coordinates: [[559, 303], [625, 303], [625, 319], [559, 319]]\n",
            "Text: TELE-Long, Coordinates: [[17, 315], [89, 315], [89, 329], [17, 329]]\n",
            "Text: DIstaNcE 82181, Coordinates: [[93, 315], [215, 315], [215, 331], [93, 331]]\n",
            "Text: 31 ., Coordinates: [[583, 315], [609, 315], [609, 331], [583, 331]]\n",
            "Text: TotaLs, Coordinates: [[49, 329], [99, 329], [99, 343], [49, 343]]\n",
            "Text: 1,702.52, Coordinates: [[253, 329], [319, 329], [319, 343], [253, 343]]\n",
            "Text: 1,702., Coordinates: [[559, 329], [609, 329], [609, 343], [559, 343]]\n",
            "Text: AgENcY, Coordinates: [[33, 343], [83, 343], [83, 357], [33, 357]]\n",
            "Text: cuMm, Coordinates: [[87, 341], [123, 341], [123, 355], [87, 355]]\n",
            "Text: Jor, Coordinates: [[17, 355], [43, 355], [43, 369], [17, 369]]\n",
            "Text: TOtALS, Coordinates: [[49, 353], [99, 353], [99, 369], [49, 369]]\n",
            "Text: 1,702.52, Coordinates: [[251, 355], [319, 355], [319, 369], [251, 369]]\n",
            "Text: 722-52, Coordinates: [[575, 355], [625, 355], [625, 369], [575, 369]]\n",
            "Text: , Coordinates: [[618, 667], [644, 667], [644, 782], [618, 782]]\n",
            "Text: 7 LG #/dei, Coordinates: [[39, 761], [205, 761], [205, 805], [39, 805]]\n",
            "Text: Feas, Coordinates: [[116, 818], [142, 818], [142, 824], [116, 824]]\n",
            "Text: MImm, Coordinates: [[148, 818], [176, 818], [176, 824], [148, 824]]\n",
            "Text: Inutr, Coordinates: [[266, 816], [296, 816], [296, 824], [266, 824]]\n",
            "Text: Jcolcar, Coordinates: [[316, 816], [350, 816], [350, 824], [316, 824]]\n",
            "Text: Wiaea, Coordinates: [[356, 816], [386, 816], [386, 824], [356, 824]]\n",
            "Text: Mucut, Coordinates: [[412, 816], [444, 816], [444, 824], [412, 824]]\n",
            "Text: Fova, Coordinates: [[472, 816], [494, 816], [494, 824], [472, 824]]\n",
            "Text: Aenuanca, Coordinates: [[498, 816], [544, 816], [544, 824], [498, 824]]\n",
            "Text: PRODUCTION {NVOICE-TRITLICATE, Coordinates: [[209, 835], [369, 835], [369, 849], [209, 849]]\n"
          ]
        }
      ]
    },
    {
      "cell_type": "code",
      "source": [
        "image = Image.open(\"/content/dataset_1/invoice/0011930170.jpg\")\n",
        "\n",
        "# Extract text using Tesseract\n",
        "extracted_text = pytesseract.image_to_string(image)\n",
        "\n",
        "print(\"Extracted Invoice Text:\")\n",
        "print(extracted_text)"
      ],
      "metadata": {
        "id": "ywxAlXgks_j_",
        "colab": {
          "base_uri": "https://localhost:8080/"
        },
        "outputId": "17c91e8f-b8ba-4490-e92f-5f49dd73af24"
      },
      "execution_count": null,
      "outputs": [
        {
          "output_type": "stream",
          "name": "stdout",
          "text": [
            "Extracted Invoice Text:\n",
            " \n",
            "\n",
            " \n",
            "\n",
            "INTERNATION tL\n",
            "\n",
            " \n",
            "\n",
            " \n",
            "\n",
            "+ : no. 062920\n",
            "i 2 ‘\n",
            "ig my\n",
            "\n",
            "Brom & witLtanson Tabacco Co ora ies\n",
            "{Bs0\"avown ¢ittanaon fowes sie &\n",
            "Fo, bor 3330 |\n",
            "Uoulavilue, Re- 40292 ‘\n",
            "oan :\n",
            "\n",
            "Attention: Mrs Charles G. Li\n",
            "\n",
            "For prof\n",
            "\n",
            " \n",
            "\n",
            "onal services re\n",
            "\n",
            " \n",
            "\n",
            "A Patent application no. 00°\"\n",
            "\n",
            "   \n",
            "\n",
            "= Filing a requesting for an sv\n",
            "\n",
            " \n",
            "\n",
            " \n",
            "\n",
            "528\n",
            "\n",
            "og\n",
            "\n",
            "   \n",
            "\n",
            "$101.66\n",
            "\n",
            "_RTEMENT PERIOD\n",
            "\n",
            "AND STIL OUTSTANDING |\n",
            "\n",
            "oh\n",
            "\n",
            " \n",
            "\n",
            " \n",
            "\n",
            "682333685\n",
            "\n",
            " \n",
            "\f\n"
          ]
        }
      ]
    },
    {
      "cell_type": "code",
      "source": [
        "import re\n",
        "\n",
        "def extract_invoice_fields(text):\n",
        "    # Invoice Number (Formats: INV-1234, Invoice # 5678)\n",
        "    invoice_number_pattern = r\"(?:Invoice\\s*Number|Invoice\\s*No\\.?|INV)[^\\d]*(\\d+)\"\n",
        "\n",
        "    # Date (Formats: 12/31/2023, 31-12-2023, Dec 31, 2023)\n",
        "    date_pattern = r\"(\\d{1,2}[/-]\\d{1,2}[/-]\\d{2,4}|\\b(?:Jan|Feb|Mar|Apr|May|Jun|Jul|Aug|Sep|Oct|Nov|Dec)\\.?\\s*\\d{1,2},?\\s*\\d{4})\"\n",
        "\n",
        "    # Amount (Formats: $123.45, USD 456.78, Total: 567.89)\n",
        "    amount_pattern = r\"(?:Total\\s*Amount|Amount\\s*Due|Total)[^\\d]*([\\d,]+\\.\\d{2})\"\n",
        "\n",
        "    # Vendor Details (First meaningful lines of text)\n",
        "    vendor_pattern = r\"^(.*?)(?=\\nInvoice|Bill To|Ship To|Date)\"\n",
        "\n",
        "    # Extract values using regex\n",
        "    invoice_number = re.search(invoice_number_pattern, text, re.IGNORECASE)\n",
        "    date = re.search(date_pattern, text, re.IGNORECASE)\n",
        "    amount = re.search(amount_pattern, text, re.IGNORECASE)\n",
        "    vendor = re.search(vendor_pattern, text, re.MULTILINE | re.DOTALL)\n",
        "\n",
        "    # Format extracted values\n",
        "    extracted_fields = {\n",
        "        \"Invoice Number\": invoice_number.group(1) if invoice_number else None,\n",
        "        \"Date\": date.group(1) if date else None,\n",
        "        \"Amount\": amount.group(1) if amount else None,\n",
        "        \"Vendor Details\": vendor.group(1).strip() if vendor else None\n",
        "    }\n",
        "\n",
        "    return extracted_fields\n",
        "\n",
        "# Extract structured fields\n",
        "invoice_data = extract_invoice_fields(extracted_text)\n",
        "print(\"\\nExtracted Invoice Fields:\\n\", invoice_data)\n"
      ],
      "metadata": {
        "colab": {
          "base_uri": "https://localhost:8080/"
        },
        "id": "pPE3q2LAlsKN",
        "outputId": "f6655627-3ed1-4343-df6d-28f74524843c"
      },
      "execution_count": null,
      "outputs": [
        {
          "output_type": "stream",
          "name": "stdout",
          "text": [
            "\n",
            "Extracted Invoice Fields:\n",
            " {'Invoice Number': None, 'Date': None, 'Amount': None, 'Vendor Details': None}\n"
          ]
        }
      ]
    },
    {
      "cell_type": "code",
      "source": [
        "def extract_invoice_data(image_path):\n",
        "    text = extract_invoice_data(image_path)\n",
        "    invoice_data = extract_invoice_fields(text)\n",
        "    return invoice_data\n",
        "\n",
        "# Test function\n",
        "invoice_details = extract_invoice_data(\"/content/dataset_1/invoice/0011930170.jpg\")\n",
        "print(invoice_details)\n"
      ],
      "metadata": {
        "colab": {
          "base_uri": "https://localhost:8080/"
        },
        "id": "ge2-nGOHoRvr",
        "outputId": "c43797e9-9e01-4553-c7c1-a5b32c0651f0"
      },
      "execution_count": null,
      "outputs": [
        {
          "output_type": "stream",
          "name": "stderr",
          "text": [
            "ERROR:root:Internal Python error in the inspect module.\n",
            "Below is the traceback from this internal error.\n",
            "\n"
          ]
        },
        {
          "output_type": "stream",
          "name": "stdout",
          "text": [
            "Traceback (most recent call last):\n"
          ]
        },
        {
          "output_type": "stream",
          "name": "stderr",
          "text": [
            "ERROR:root:Internal Python error in the inspect module.\n",
            "Below is the traceback from this internal error.\n",
            "\n"
          ]
        }
      ]
    },
    {
      "cell_type": "code",
      "source": [],
      "metadata": {
        "id": "coQbd1mJZ-HT"
      },
      "execution_count": null,
      "outputs": []
    }
  ]
}